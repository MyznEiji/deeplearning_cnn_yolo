{
 "cells": [
  {
   "cell_type": "code",
   "execution_count": 1,
   "metadata": {},
   "outputs": [
    {
     "name": "stderr",
     "output_type": "stream",
     "text": [
      "/root/.pyenv/versions/anaconda3-5.0.0/lib/python3.6/site-packages/h5py/__init__.py:34: FutureWarning: Conversion of the second argument of issubdtype from `float` to `np.floating` is deprecated. In future, it will be treated as `np.float64 == np.dtype(float).type`.\n",
      "  from ._conv import register_converters as _register_converters\n",
      "Using TensorFlow backend.\n"
     ]
    }
   ],
   "source": [
    "from keras.datasets  import reuters"
   ]
  },
  {
   "cell_type": "code",
   "execution_count": 2,
   "metadata": {},
   "outputs": [],
   "source": [
    "(train_data, train_labels), (test_data, test_labels) = reuters.load_data(num_words=10000)"
   ]
  },
  {
   "cell_type": "code",
   "execution_count": 3,
   "metadata": {},
   "outputs": [
    {
     "name": "stdout",
     "output_type": "stream",
     "text": [
      "8982\n",
      "2246\n",
      "31\n"
     ]
    }
   ],
   "source": [
    "print(len(train_data))\n",
    "print(len(test_data))\n",
    "print(len(train_data[10]))"
   ]
  },
  {
   "cell_type": "code",
   "execution_count": 4,
   "metadata": {},
   "outputs": [
    {
     "name": "stdout",
     "output_type": "stream",
     "text": [
      "[list([1, 2, 2, 8, 43, 10, 447, 5, 25, 207, 270, 5, 3095, 111, 16, 369, 186, 90, 67, 7, 89, 5, 19, 102, 6, 19, 124, 15, 90, 67, 84, 22, 482, 26, 7, 48, 4, 49, 8, 864, 39, 209, 154, 6, 151, 6, 83, 11, 15, 22, 155, 11, 15, 7, 48, 9, 4579, 1005, 504, 6, 258, 6, 272, 11, 15, 22, 134, 44, 11, 15, 16, 8, 197, 1245, 90, 67, 52, 29, 209, 30, 32, 132, 6, 109, 15, 17, 12])\n",
      " list([1, 3267, 699, 3434, 2295, 56, 2, 7511, 9, 56, 3906, 1073, 81, 5, 1198, 57, 366, 737, 132, 20, 4093, 7, 2, 49, 2295, 2, 1037, 3267, 699, 3434, 8, 7, 10, 241, 16, 855, 129, 231, 783, 5, 4, 587, 2295, 2, 2, 775, 7, 48, 34, 191, 44, 35, 1795, 505, 17, 12])\n",
      " list([1, 53, 12, 284, 15, 14, 272, 26, 53, 959, 32, 818, 15, 14, 272, 26, 39, 684, 70, 11, 14, 12, 3886, 18, 180, 183, 187, 70, 11, 14, 102, 32, 11, 29, 53, 44, 704, 15, 14, 19, 758, 15, 53, 959, 47, 1013, 15, 14, 19, 132, 15, 39, 965, 32, 11, 14, 147, 72, 11, 180, 183, 187, 44, 11, 14, 102, 19, 11, 123, 186, 90, 67, 960, 4, 78, 13, 68, 467, 511, 110, 59, 89, 90, 67, 1390, 55, 2678, 92, 617, 80, 1274, 46, 905, 220, 13, 4, 346, 48, 235, 629, 5, 211, 5, 1118, 7, 2, 81, 5, 187, 11, 15, 9, 1709, 201, 5, 47, 3615, 18, 478, 4514, 5, 1118, 7, 232, 2, 71, 5, 160, 63, 11, 9, 2, 81, 5, 102, 59, 11, 17, 12])\n",
      " ...\n",
      " list([1, 141, 3890, 387, 81, 8, 16, 1629, 10, 340, 1241, 850, 31, 56, 3890, 691, 9, 1241, 71, 9, 5985, 2, 2, 699, 2, 2, 2, 699, 244, 5945, 4, 49, 8, 4, 656, 850, 33, 2993, 9, 2139, 340, 3371, 1493, 9, 2, 22, 2, 1094, 687, 83, 35, 15, 257, 6, 57, 9190, 7, 4, 5956, 654, 5, 2, 6191, 1371, 4, 49, 8, 16, 369, 646, 6, 1076, 7, 124, 407, 17, 12])\n",
      " list([1, 53, 46, 957, 26, 14, 74, 132, 26, 39, 46, 258, 3614, 18, 14, 74, 134, 5131, 18, 88, 2321, 72, 11, 14, 1842, 32, 11, 123, 383, 89, 39, 46, 235, 10, 864, 728, 5, 258, 44, 11, 15, 22, 753, 9, 42, 92, 131, 728, 5, 69, 312, 11, 15, 22, 222, 2, 3237, 383, 48, 39, 74, 235, 10, 864, 276, 5, 61, 32, 11, 15, 21, 4, 211, 5, 126, 1072, 42, 92, 131, 46, 19, 352, 11, 15, 22, 710, 220, 9, 42, 92, 131, 276, 5, 59, 61, 11, 15, 22, 10, 455, 7, 1172, 137, 336, 1325, 6, 1532, 142, 971, 6463, 43, 359, 5, 4, 326, 753, 364, 17, 12])\n",
      " list([1, 227, 2406, 91, 2, 125, 2855, 21, 4, 3976, 76, 7, 4, 757, 481, 3976, 790, 5259, 5654, 9, 111, 149, 8, 7, 10, 76, 223, 51, 4, 417, 8, 1047, 91, 6917, 1688, 340, 7, 194, 9411, 6, 1894, 21, 127, 2151, 2394, 1456, 6, 3034, 4, 329, 433, 7, 65, 87, 1127, 10, 8219, 1475, 290, 9, 21, 567, 16, 1926, 24, 4, 76, 209, 30, 4033, 6655, 5654, 8, 4, 60, 8, 4, 966, 308, 40, 2575, 129, 2, 295, 277, 1071, 9, 24, 286, 2114, 234, 222, 9, 4, 906, 3994, 8519, 114, 5758, 1752, 7, 4, 113, 17, 12])]\n"
     ]
    }
   ],
   "source": [
    "print(train_data)"
   ]
  },
  {
   "cell_type": "code",
   "execution_count": 5,
   "metadata": {
    "collapsed": true
   },
   "outputs": [],
   "source": [
    "from keras.utils.np_utils import to_categorical \n",
    "\n",
    "one_hot_train_labels = to_categorical(train_labels)\n",
    "one_hot_test_labels = to_categorical(test_labels)"
   ]
  },
  {
   "cell_type": "code",
   "execution_count": 6,
   "metadata": {},
   "outputs": [
    {
     "name": "stdout",
     "output_type": "stream",
     "text": [
      "[[0. 0. 0. ... 0. 0. 0.]\n",
      " [0. 0. 0. ... 0. 0. 0.]\n",
      " [0. 0. 0. ... 0. 0. 0.]\n",
      " ...\n",
      " [0. 0. 0. ... 0. 0. 0.]\n",
      " [0. 0. 0. ... 0. 0. 0.]\n",
      " [0. 0. 0. ... 0. 0. 0.]]\n"
     ]
    }
   ],
   "source": [
    "print(one_hot_train_labels)"
   ]
  },
  {
   "cell_type": "code",
   "execution_count": 7,
   "metadata": {},
   "outputs": [
    {
     "name": "stdout",
     "output_type": "stream",
     "text": [
      "[[0. 0. 0. ... 0. 0. 0.]\n",
      " [0. 0. 0. ... 0. 0. 0.]\n",
      " [0. 1. 0. ... 0. 0. 0.]\n",
      " ...\n",
      " [0. 0. 0. ... 0. 0. 0.]\n",
      " [0. 0. 0. ... 0. 0. 0.]\n",
      " [0. 0. 0. ... 0. 0. 0.]]\n"
     ]
    }
   ],
   "source": [
    "print(one_hot_test_labels)"
   ]
  },
  {
   "cell_type": "code",
   "execution_count": 8,
   "metadata": {
    "collapsed": true
   },
   "outputs": [],
   "source": [
    "from keras import models\n",
    "from keras import layers"
   ]
  },
  {
   "cell_type": "code",
   "execution_count": 9,
   "metadata": {},
   "outputs": [],
   "source": [
    "model = models.Sequential()"
   ]
  },
  {
   "cell_type": "code",
   "execution_count": 10,
   "metadata": {},
   "outputs": [
    {
     "name": "stdout",
     "output_type": "stream",
     "text": [
      "WARNING:tensorflow:From /root/.pyenv/versions/anaconda3-5.0.0/lib/python3.6/site-packages/tensorflow/python/framework/op_def_library.py:263: colocate_with (from tensorflow.python.framework.ops) is deprecated and will be removed in a future version.\n",
      "Instructions for updating:\n",
      "Colocations handled automatically by placer.\n"
     ]
    }
   ],
   "source": [
    "model.add(layers.Dense(64, activation=\"relu\", input_shape=(10000,)))"
   ]
  },
  {
   "cell_type": "code",
   "execution_count": 11,
   "metadata": {
    "collapsed": true
   },
   "outputs": [],
   "source": [
    "model.add(layers.Dense(64, activation=\"relu\"))\n",
    "model.add(layers.Dense(46, activation=\"softmax\"))"
   ]
  },
  {
   "cell_type": "code",
   "execution_count": 12,
   "metadata": {
    "collapsed": true
   },
   "outputs": [],
   "source": [
    "model.compile(optimizer='rmsprop', loss='categorical_crossentropy', metrics=['accuracy'])\n"
   ]
  },
  {
   "cell_type": "code",
   "execution_count": 13,
   "metadata": {
    "collapsed": true
   },
   "outputs": [],
   "source": [
    "import numpy as np \n",
    "\n",
    "def vectorize_sequences(sequences, dimension=10000):\n",
    "    results = np.zeros((len(sequences), dimension))\n",
    "    for i, sequence in enumerate(sequences): \n",
    "        results [i, sequence] = 1.\n",
    "    return results\n",
    "# Convert training data to vector\n",
    "x_train = vectorize_sequences(train_data)\n",
    "# Convert the test data to vector\n",
    "x_test = vectorize_sequences(test_data)"
   ]
  },
  {
   "cell_type": "code",
   "execution_count": 14,
   "metadata": {
    "collapsed": true
   },
   "outputs": [],
   "source": [
    "x_val = x_train[:1000]\n",
    "partial_x_train = x_train[1000:]\n",
    "\n",
    "y_val = one_hot_train_labels[:1000]\n",
    "partial_y_train = one_hot_train_labels[1000:]"
   ]
  },
  {
   "cell_type": "code",
   "execution_count": 20,
   "metadata": {},
   "outputs": [
    {
     "name": "stdout",
     "output_type": "stream",
     "text": [
      "Train on 7982 samples, validate on 1000 samples\n",
      "Epoch 1/20\n",
      "7982/7982 [==============================] - 1s 155us/step - loss: 0.0867 - acc: 0.9579 - val_loss: 1.3440 - val_acc: 0.7730\n",
      "Epoch 2/20\n",
      "7982/7982 [==============================] - 1s 139us/step - loss: 0.0862 - acc: 0.9574 - val_loss: 1.3635 - val_acc: 0.7830\n",
      "Epoch 3/20\n",
      "7982/7982 [==============================] - 1s 145us/step - loss: 0.0833 - acc: 0.9592 - val_loss: 1.2785 - val_acc: 0.7960\n",
      "Epoch 4/20\n",
      "7982/7982 [==============================] - 1s 137us/step - loss: 0.0818 - acc: 0.9575 - val_loss: 1.3668 - val_acc: 0.7800\n",
      "Epoch 5/20\n",
      "7982/7982 [==============================] - 1s 144us/step - loss: 0.0834 - acc: 0.9587 - val_loss: 1.3479 - val_acc: 0.7870\n",
      "Epoch 6/20\n",
      "7982/7982 [==============================] - 1s 161us/step - loss: 0.0815 - acc: 0.9594 - val_loss: 1.2995 - val_acc: 0.7920\n",
      "Epoch 7/20\n",
      "7982/7982 [==============================] - 1s 138us/step - loss: 0.0808 - acc: 0.9579 - val_loss: 1.3433 - val_acc: 0.7990\n",
      "Epoch 8/20\n",
      "7982/7982 [==============================] - 1s 145us/step - loss: 0.0792 - acc: 0.9588 - val_loss: 1.3342 - val_acc: 0.7780\n",
      "Epoch 9/20\n",
      "7982/7982 [==============================] - 1s 139us/step - loss: 0.0837 - acc: 0.9605 - val_loss: 1.3588 - val_acc: 0.7860\n",
      "Epoch 10/20\n",
      "7982/7982 [==============================] - 1s 152us/step - loss: 0.0800 - acc: 0.9569 - val_loss: 1.3476 - val_acc: 0.7850\n",
      "Epoch 11/20\n",
      "7982/7982 [==============================] - 1s 138us/step - loss: 0.0821 - acc: 0.9584 - val_loss: 1.3568 - val_acc: 0.7910\n",
      "Epoch 12/20\n",
      "7982/7982 [==============================] - 1s 150us/step - loss: 0.0778 - acc: 0.9583 - val_loss: 1.3471 - val_acc: 0.7950\n",
      "Epoch 13/20\n",
      "7982/7982 [==============================] - 1s 163us/step - loss: 0.0783 - acc: 0.9597 - val_loss: 1.3982 - val_acc: 0.7840\n",
      "Epoch 14/20\n",
      "7982/7982 [==============================] - 1s 141us/step - loss: 0.0774 - acc: 0.9595 - val_loss: 1.4508 - val_acc: 0.7660\n",
      "Epoch 15/20\n",
      "7982/7982 [==============================] - 1s 173us/step - loss: 0.0804 - acc: 0.9584 - val_loss: 1.3665 - val_acc: 0.7830\n",
      "Epoch 16/20\n",
      "7982/7982 [==============================] - 1s 147us/step - loss: 0.0768 - acc: 0.9564 - val_loss: 1.3774 - val_acc: 0.7890\n",
      "Epoch 17/20\n",
      "7982/7982 [==============================] - 1s 140us/step - loss: 0.0759 - acc: 0.9607 - val_loss: 1.4766 - val_acc: 0.7730\n",
      "Epoch 18/20\n",
      "7982/7982 [==============================] - 1s 145us/step - loss: 0.0793 - acc: 0.9587 - val_loss: 1.3790 - val_acc: 0.7840\n",
      "Epoch 19/20\n",
      "7982/7982 [==============================] - 1s 140us/step - loss: 0.0756 - acc: 0.9588 - val_loss: 1.4262 - val_acc: 0.7750\n",
      "Epoch 20/20\n",
      "7982/7982 [==============================] - 2s 201us/step - loss: 0.0756 - acc: 0.9589 - val_loss: 1.3739 - val_acc: 0.7830\n"
     ]
    }
   ],
   "source": [
    "history = model.fit(partial_x_train,\n",
    "                                partial_y_train,\n",
    "                                epochs  = 20,\n",
    "                                batch_size = 512,\n",
    "                                validation_data=(x_val, y_val))"
   ]
  },
  {
   "cell_type": "code",
   "execution_count": 21,
   "metadata": {},
   "outputs": [
    {
     "data": {
      "image/png": "[encoded data removed]",
      "text/plain": [
       "<matplotlib.figure.Figure at 0x7f33af1fc898>"
      ]
     },
     "metadata": {},
     "output_type": "display_data"
    }
   ],
   "source": [
    "# Plot the loss value in training data and data varification   \n",
    "import matplotlib.pyplot as plt\n",
    "\n",
    "plt.figure()\n",
    "\n",
    "loss = history.history['loss']\n",
    "val_loss = history.history['val_loss'] \n",
    "\n",
    "epochs = range(1, len(loss) + 1)\n",
    "\n",
    "plt.plot(epochs, loss,'bo', label='Training loss')\n",
    "plt.plot(epochs, val_loss,'b', label='Validation loss')\n",
    "plt.title('Training and validation loss')\n",
    "plt.xlabel('Epochs')\n",
    "plt.ylabel('Loss') \n",
    "plt.legend()\n",
    "plt.show()"
   ]
  },
  {
   "cell_type": "code",
   "execution_count": 22,
   "metadata": {},
   "outputs": [
    {
     "data": {
      "image/png": "[encoded data removed]",
      "text/plain": [
       "<matplotlib.figure.Figure at 0x7f33af1fc828>"
      ]
     },
     "metadata": {},
     "output_type": "display_data"
    }
   ],
   "source": [
    "# Plot the accuracy rate in training data and data varification  \n",
    "\n",
    "plt.figure()\n",
    "\n",
    "acc = history.history['acc'] \n",
    "val_acc = history.history['val_acc'] \n",
    "\n",
    "plt.plot(epochs, acc,'bo', label='Training acc')\n",
    "plt.plot(epochs, val_acc,'b', label='Validation acc')\n",
    "plt.title('Training and validation accuracy')\n",
    "plt.xlabel('Epochs')\n",
    "plt.ylabel('Accuracy')\n",
    "plt.legend() \n",
    "plt.show()"
   ]
  },
  {
   "cell_type": "code",
   "execution_count": 23,
   "metadata": {},
   "outputs": [
    {
     "name": "stdout",
     "output_type": "stream",
     "text": [
      "Train on 7982 samples, validate on 1000 samples\n",
      "Epoch 1/8\n",
      "7982/7982 [==============================] - 2s 193us/step - loss: 2.8535 - acc: 0.4022 - val_loss: 1.9506 - val_acc: 0.6340\n",
      "Epoch 2/8\n",
      "7982/7982 [==============================] - 1s 133us/step - loss: 1.5744 - acc: 0.6898 - val_loss: 1.3817 - val_acc: 0.7110\n",
      "Epoch 3/8\n",
      "7982/7982 [==============================] - 1s 144us/step - loss: 1.1285 - acc: 0.7676 - val_loss: 1.1844 - val_acc: 0.7380\n",
      "Epoch 4/8\n",
      "7982/7982 [==============================] - 1s 140us/step - loss: 0.8771 - acc: 0.8225 - val_loss: 1.0465 - val_acc: 0.7800\n",
      "Epoch 5/8\n",
      "7982/7982 [==============================] - 1s 132us/step - loss: 0.6981 - acc: 0.8555 - val_loss: 0.9797 - val_acc: 0.8030\n",
      "Epoch 6/8\n",
      "7982/7982 [==============================] - 1s 136us/step - loss: 0.5540 - acc: 0.8900 - val_loss: 0.9437 - val_acc: 0.7980\n",
      "Epoch 7/8\n",
      "7982/7982 [==============================] - 1s 135us/step - loss: 0.4492 - acc: 0.9102 - val_loss: 0.9425 - val_acc: 0.8090\n",
      "Epoch 8/8\n",
      "7982/7982 [==============================] - 1s 142us/step - loss: 0.3695 - acc: 0.9247 - val_loss: 0.9006 - val_acc: 0.8060\n",
      "2246/2246 [==============================] - 0s 123us/step\n"
     ]
    }
   ],
   "source": [
    "model = models.Sequential() \n",
    "\n",
    "model.add(layers.Dense(64, activation='relu', input_shape=(10000,)))\n",
    "model.add(layers.Dense(64, activation='relu'))\n",
    "model.add(layers.Dense(46, activation='softmax')) \n",
    "\n",
    "model.compile(optimizer='rmsprop', loss='categorical_crossentropy', metrics=['accuracy']) \n",
    "\n",
    "history = model.fit(partial_x_train,\n",
    "                                partial_y_train,\n",
    "                                epochs=8,\n",
    "                                batch_size=512,\n",
    "                                validation_data=(x_val, y_val))\n",
    "\n",
    "results = model.evaluate(x_test, one_hot_test_labels)"
   ]
  },
  {
   "cell_type": "code",
   "execution_count": 24,
   "metadata": {},
   "outputs": [
    {
     "name": "stdout",
     "output_type": "stream",
     "text": [
      "[0.9743816653002827, 0.7871772039711529]\n"
     ]
    }
   ],
   "source": [
    "print(results)"
   ]
  },
  {
   "cell_type": "code",
   "execution_count": 25,
   "metadata": {},
   "outputs": [
    {
     "name": "stdout",
     "output_type": "stream",
     "text": [
      "Train on 7982 samples, validate on 1000 samples\n",
      "Epoch 1/20\n",
      "7982/7982 [==============================] - 2s 223us/step - loss: 2.8698 - acc: 0.2400 - val_loss: 2.2536 - val_acc: 0.2740\n",
      "Epoch 2/20\n",
      "7982/7982 [==============================] - 1s 166us/step - loss: 1.9568 - acc: 0.5643 - val_loss: 1.7821 - val_acc: 0.6290\n",
      "Epoch 3/20\n",
      "7982/7982 [==============================] - 1s 178us/step - loss: 1.6348 - acc: 0.6426 - val_loss: 1.6428 - val_acc: 0.6290\n",
      "Epoch 4/20\n",
      "7982/7982 [==============================] - 1s 177us/step - loss: 1.4962 - acc: 0.6531 - val_loss: 1.6087 - val_acc: 0.6270\n",
      "Epoch 5/20\n",
      "7982/7982 [==============================] - 1s 174us/step - loss: 1.4120 - acc: 0.6586 - val_loss: 1.5884 - val_acc: 0.6340\n",
      "Epoch 6/20\n",
      "7982/7982 [==============================] - 1s 183us/step - loss: 1.3484 - acc: 0.6641 - val_loss: 1.5714 - val_acc: 0.6420\n",
      "Epoch 7/20\n",
      "7982/7982 [==============================] - 2s 197us/step - loss: 1.2929 - acc: 0.6635 - val_loss: 1.5870 - val_acc: 0.6350\n",
      "Epoch 8/20\n",
      "7982/7982 [==============================] - 2s 195us/step - loss: 1.2460 - acc: 0.6634 - val_loss: 1.5696 - val_acc: 0.6400\n",
      "Epoch 9/20\n",
      "7982/7982 [==============================] - 1s 171us/step - loss: 1.2093 - acc: 0.6647 - val_loss: 1.5911 - val_acc: 0.6300\n",
      "Epoch 10/20\n",
      "7982/7982 [==============================] - 1s 186us/step - loss: 1.1753 - acc: 0.6675 - val_loss: 1.5792 - val_acc: 0.6360\n",
      "Epoch 11/20\n",
      "7982/7982 [==============================] - 1s 179us/step - loss: 1.1481 - acc: 0.6703 - val_loss: 1.6156 - val_acc: 0.6420\n",
      "Epoch 12/20\n",
      "7982/7982 [==============================] - 1s 186us/step - loss: 1.1221 - acc: 0.6741 - val_loss: 1.6198 - val_acc: 0.6460\n",
      "Epoch 13/20\n",
      "7982/7982 [==============================] - 2s 190us/step - loss: 1.1014 - acc: 0.6761 - val_loss: 1.6863 - val_acc: 0.6380\n",
      "Epoch 14/20\n",
      "7982/7982 [==============================] - 2s 237us/step - loss: 1.0829 - acc: 0.6815 - val_loss: 1.6638 - val_acc: 0.6370\n",
      "Epoch 15/20\n",
      "7982/7982 [==============================] - 1s 188us/step - loss: 1.0680 - acc: 0.6884 - val_loss: 1.7206 - val_acc: 0.6350\n",
      "Epoch 16/20\n",
      "7982/7982 [==============================] - 2s 204us/step - loss: 1.0527 - acc: 0.6962 - val_loss: 1.7074 - val_acc: 0.6390\n",
      "Epoch 17/20\n",
      "7982/7982 [==============================] - 1s 187us/step - loss: 1.0383 - acc: 0.7033 - val_loss: 1.7489 - val_acc: 0.6360\n",
      "Epoch 18/20\n",
      "7982/7982 [==============================] - 2s 223us/step - loss: 1.0296 - acc: 0.7097 - val_loss: 1.7779 - val_acc: 0.6350\n",
      "Epoch 19/20\n",
      "7982/7982 [==============================] - 2s 203us/step - loss: 1.0166 - acc: 0.7132 - val_loss: 1.8663 - val_acc: 0.6390\n",
      "Epoch 20/20\n",
      "7982/7982 [==============================] - 1s 164us/step - loss: 1.0102 - acc: 0.7176 - val_loss: 1.8073 - val_acc: 0.6330\n"
     ]
    }
   ],
   "source": [
    "model = models.Sequential()\n",
    "model.add(layers.Dense(64, activation='relu', input_shape=(10000,)))\n",
    "model.add(layers.Dense(4, activation='relu')) \n",
    "model.add(layers.Dense(46, activation='softmax')) \n",
    "\n",
    "model.compile(optimizer='rmsprop', loss='categorical_crossentropy', metrics=['accuracy']) \n",
    "\n",
    "history = model.fit(partial_x_train,\n",
    "                                partial_y_train,\n",
    "                                epochs=20,\n",
    "                                batch_size=128,\n",
    "                                validation_data=(x_val, y_val))"
   ]
  },
  {
   "cell_type": "code",
   "execution_count": null,
   "metadata": {
    "collapsed": true
   },
   "outputs": [],
   "source": [
    "results = model.evaluate(x_test, one_hot_test_labels)"
   ]
  }
 ],
 "metadata": {
  "kernelspec": {
   "display_name": "Python 3",
   "language": "python",
   "name": "python3"
  },
  "language_info": {
   "codemirror_mode": {
    "name": "ipython",
    "version": 3
   },
   "file_extension": ".py",
   "mimetype": "text/x-python",
   "name": "python",
   "nbconvert_exporter": "python",
   "pygments_lexer": "ipython3",
   "version": "3.6.2"
  }
 },
 "nbformat": 4,
 "nbformat_minor": 2
}
