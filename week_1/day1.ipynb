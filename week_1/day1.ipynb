{
 "cells": [
  {
   "cell_type": "markdown",
   "metadata": {},
   "source": [
    "# Numpy"
   ]
  },
  {
   "cell_type": "code",
   "execution_count": 2,
   "metadata": {
    "collapsed": true
   },
   "outputs": [],
   "source": [
    "import numpy as np\n",
    "import matplotlib as plt"
   ]
  },
  {
   "cell_type": "code",
   "execution_count": 3,
   "metadata": {},
   "outputs": [
    {
     "name": "stdout",
     "output_type": "stream",
     "text": [
      "[1, 0]\n"
     ]
    }
   ],
   "source": [
    "A = [1, 0]\n",
    "print(A)"
   ]
  },
  {
   "cell_type": "code",
   "execution_count": 5,
   "metadata": {},
   "outputs": [
    {
     "name": "stdout",
     "output_type": "stream",
     "text": [
      "[[1, 0], [0, 1]]\n"
     ]
    }
   ],
   "source": [
    "A = [[1, 0],[0, 1]]\n",
    "print(A)"
   ]
  },
  {
   "cell_type": "code",
   "execution_count": 6,
   "metadata": {
    "collapsed": true
   },
   "outputs": [],
   "source": [
    "B = [[1, 2],[3, 4]]"
   ]
  },
  {
   "cell_type": "code",
   "execution_count": 7,
   "metadata": {},
   "outputs": [
    {
     "name": "stdout",
     "output_type": "stream",
     "text": [
      "[[1, 0], [0, 1], [1, 2], [3, 4]]\n"
     ]
    }
   ],
   "source": [
    "print(A + B)"
   ]
  },
  {
   "cell_type": "code",
   "execution_count": 8,
   "metadata": {},
   "outputs": [
    {
     "name": "stdout",
     "output_type": "stream",
     "text": [
      "[[2 2]\n",
      " [3 5]]\n"
     ]
    }
   ],
   "source": [
    "A = np.array(A)\n",
    "B = np.array(B)\n",
    "\n",
    "print(A + B )"
   ]
  },
  {
   "cell_type": "code",
   "execution_count": 9,
   "metadata": {},
   "outputs": [
    {
     "name": "stdout",
     "output_type": "stream",
     "text": [
      "  C_CONTIGUOUS : True\n",
      "  F_CONTIGUOUS : False\n",
      "  OWNDATA : True\n",
      "  WRITEABLE : True\n",
      "  ALIGNED : True\n",
      "  WRITEBACKIFCOPY : False\n",
      "  UPDATEIFCOPY : False\n"
     ]
    }
   ],
   "source": [
    "print(A.flags)"
   ]
  },
  {
   "cell_type": "code",
   "execution_count": 10,
   "metadata": {},
   "outputs": [
    {
     "name": "stdout",
     "output_type": "stream",
     "text": [
      "2\n",
      "2\n"
     ]
    }
   ],
   "source": [
    "print(A.ndim)\n",
    "print(B.ndim)"
   ]
  },
  {
   "cell_type": "code",
   "execution_count": 11,
   "metadata": {},
   "outputs": [
    {
     "name": "stdout",
     "output_type": "stream",
     "text": [
      "4\n"
     ]
    }
   ],
   "source": [
    "print(A.size)"
   ]
  },
  {
   "cell_type": "code",
   "execution_count": 12,
   "metadata": {},
   "outputs": [
    {
     "name": "stdout",
     "output_type": "stream",
     "text": [
      "(2, 2)\n",
      "(2, 2)\n"
     ]
    }
   ],
   "source": [
    "print(A.shape)\n",
    "print(B.shape)"
   ]
  },
  {
   "cell_type": "code",
   "execution_count": 13,
   "metadata": {},
   "outputs": [
    {
     "name": "stdout",
     "output_type": "stream",
     "text": [
      "[[ 1  2  3]\n",
      " [ 4  5  6]\n",
      " [ 7  8  9]\n",
      " [10 11 12]]\n"
     ]
    }
   ],
   "source": [
    "A = [[1,2,3], [4, 5, 6], [7, 8, 9], [10, 11, 12]]\n",
    "A = np.array(A)\n",
    "print(A)"
   ]
  },
  {
   "cell_type": "code",
   "execution_count": 14,
   "metadata": {},
   "outputs": [
    {
     "name": "stdout",
     "output_type": "stream",
     "text": [
      "2\n"
     ]
    }
   ],
   "source": [
    "print(A.ndim)"
   ]
  },
  {
   "cell_type": "code",
   "execution_count": 15,
   "metadata": {},
   "outputs": [
    {
     "name": "stdout",
     "output_type": "stream",
     "text": [
      "[[ 7 16 27]\n",
      " [40 55 72]]\n"
     ]
    }
   ],
   "source": [
    "A = [[1,2,3],[4,5,6]]\n",
    "B = [[7,8,9],[10,11,12]]\n",
    "\n",
    "A = np.array(A)\n",
    "B = np.array(B)\n",
    "\n",
    "print(A * B)"
   ]
  },
  {
   "cell_type": "code",
   "execution_count": 17,
   "metadata": {},
   "outputs": [
    {
     "name": "stdout",
     "output_type": "stream",
     "text": [
      "[[ 7 10]\n",
      " [ 8 11]\n",
      " [ 9 12]]\n",
      "[[ 50  68]\n",
      " [122 167]]\n"
     ]
    }
   ],
   "source": [
    "print(B.T)\n",
    "print(np.dot(A, B.T))"
   ]
  },
  {
   "cell_type": "code",
   "execution_count": 18,
   "metadata": {},
   "outputs": [
    {
     "name": "stdout",
     "output_type": "stream",
     "text": [
      "[[0. 0. 0. 0. 0. 0.]\n",
      " [0. 0. 0. 0. 0. 0.]\n",
      " [0. 0. 0. 0. 0. 0.]\n",
      " [0. 0. 0. 0. 0. 0.]]\n"
     ]
    }
   ],
   "source": [
    "mol = np.zeros((4, 6))\n",
    "print(mol)"
   ]
  },
  {
   "cell_type": "code",
   "execution_count": 19,
   "metadata": {},
   "outputs": [
    {
     "name": "stdout",
     "output_type": "stream",
     "text": [
      "[[1. 1. 1. 1. 1. 1.]\n",
      " [1. 1. 1. 1. 1. 1.]\n",
      " [1. 1. 1. 1. 1. 1.]\n",
      " [1. 1. 1. 1. 1. 1.]]\n"
     ]
    }
   ],
   "source": [
    "mol1 = np.ones((4,6))\n",
    "print(mol1)"
   ]
  },
  {
   "cell_type": "code",
   "execution_count": 20,
   "metadata": {},
   "outputs": [
    {
     "name": "stdout",
     "output_type": "stream",
     "text": [
      "[0 1 2 3 4 5 6 7 8 9]\n"
     ]
    }
   ],
   "source": [
    "mol2 = np.arange(10)\n",
    "print(mol2)"
   ]
  },
  {
   "cell_type": "code",
   "execution_count": 21,
   "metadata": {},
   "outputs": [
    {
     "name": "stdout",
     "output_type": "stream",
     "text": [
      "[0 2 4 6 8]\n"
     ]
    }
   ],
   "source": [
    "mol3 = np.arange(0, 10, 2)\n",
    "print(mol3)"
   ]
  },
  {
   "cell_type": "code",
   "execution_count": 22,
   "metadata": {},
   "outputs": [
    {
     "name": "stdout",
     "output_type": "stream",
     "text": [
      "[1 2 3 4 5]\n"
     ]
    }
   ],
   "source": [
    "print(mol2[1:6])"
   ]
  },
  {
   "cell_type": "code",
   "execution_count": 23,
   "metadata": {},
   "outputs": [
    {
     "name": "stdout",
     "output_type": "stream",
     "text": [
      "[0 1 2 3 4 5]\n"
     ]
    }
   ],
   "source": [
    "print(mol2[:6])"
   ]
  },
  {
   "cell_type": "code",
   "execution_count": 24,
   "metadata": {},
   "outputs": [
    {
     "name": "stdout",
     "output_type": "stream",
     "text": [
      "[7 8 9]\n"
     ]
    }
   ],
   "source": [
    "print(mol2[7:])"
   ]
  },
  {
   "cell_type": "code",
   "execution_count": 25,
   "metadata": {},
   "outputs": [
    {
     "name": "stdout",
     "output_type": "stream",
     "text": [
      "[2 4 6]\n"
     ]
    }
   ],
   "source": [
    "print(mol2[2:8:2])"
   ]
  },
  {
   "cell_type": "code",
   "execution_count": 27,
   "metadata": {},
   "outputs": [
    {
     "name": "stdout",
     "output_type": "stream",
     "text": [
      "[2 1 0]\n"
     ]
    }
   ],
   "source": [
    "print(mol2[2::-1])"
   ]
  },
  {
   "cell_type": "markdown",
   "metadata": {},
   "source": [
    "# Matplotlib"
   ]
  },
  {
   "cell_type": "code",
   "execution_count": 28,
   "metadata": {
    "collapsed": true
   },
   "outputs": [],
   "source": [
    "import matplotlib.pyplot as plt"
   ]
  },
  {
   "cell_type": "code",
   "execution_count": 38,
   "metadata": {},
   "outputs": [
    {
     "data": {
      "image/png": "[encoded data removed]",
      "text/plain": [
       "<matplotlib.figure.Figure at 0x7f1181138518>"
      ]
     },
     "metadata": {},
     "output_type": "display_data"
    }
   ],
   "source": [
    "x = [1,2,3,4]\n",
    "y = [5,6,7,8]\n",
    "plt.plot(x, y, 'o-', label=\"my_data\")\n",
    "plt.xlabel(\"X\")\n",
    "plt.xlabel(\"Y\")\n",
    "plt.legend(loc=\"best\")\n",
    "plt.show()"
   ]
  },
  {
   "cell_type": "code",
   "execution_count": 39,
   "metadata": {},
   "outputs": [
    {
     "data": {
      "image/png": "[encoded data removed]",
      "text/plain": [
       "<matplotlib.figure.Figure at 0x7f118108b0f0>"
      ]
     },
     "metadata": {},
     "output_type": "display_data"
    }
   ],
   "source": [
    "x = [1,2,3,4]\n",
    "y1 = [5,6,7,8]\n",
    "y2 = [13,8,2,20]\n",
    "\n",
    "plt.plot(x, y1, 'o-', label=\"my_data\")\n",
    "plt.plot(x, y2, 'o-', label=\"my_data\")\n",
    "plt.xlabel(\"X\")\n",
    "plt.xlabel(\"Y\")\n",
    "plt.legend(loc=\"best\")\n",
    "plt.show()"
   ]
  },
  {
   "cell_type": "code",
   "execution_count": 40,
   "metadata": {},
   "outputs": [
    {
     "data": {
      "image/png": "[encoded data removed]",
      "text/plain": [
       "<matplotlib.figure.Figure at 0x7f11811b22b0>"
      ]
     },
     "metadata": {},
     "output_type": "display_data"
    }
   ],
   "source": [
    "x = np.arange(-3.0, 3.0, 0.01)\n",
    "y = np.sin(x) * np.exp( -x)\n",
    "plt.plot(x, y, '-')\n",
    "plt.show()"
   ]
  },
  {
   "cell_type": "code",
   "execution_count": 47,
   "metadata": {},
   "outputs": [
    {
     "name": "stdout",
     "output_type": "stream",
     "text": [
      "[-1.41120008e-01 -1.51012712e-01 -1.60890315e-01 -1.70751829e-01\n",
      " -1.80596268e-01 -1.90422647e-01 -2.00229985e-01 -2.10017299e-01\n",
      " -2.19783612e-01 -2.29527947e-01 -2.39249329e-01 -2.48946787e-01\n",
      " -2.58619350e-01 -2.68266051e-01 -2.77885926e-01 -2.87478012e-01\n",
      " -2.97041351e-01 -3.06574986e-01 -3.16077964e-01 -3.25549335e-01\n",
      " -3.34988150e-01 -3.44393467e-01 -3.53764345e-01 -3.63099847e-01\n",
      " -3.72399039e-01 -3.81660992e-01 -3.90884779e-01 -4.00069478e-01\n",
      " -4.09214170e-01 -4.18317941e-01 -4.27379880e-01 -4.36399082e-01\n",
      " -4.45374645e-01 -4.54305670e-01 -4.63191265e-01 -4.72030541e-01\n",
      " -4.80822615e-01 -4.89566607e-01 -4.98261642e-01 -5.06906852e-01\n",
      " -5.15501372e-01 -5.24044342e-01 -5.32534908e-01 -5.40972220e-01\n",
      " -5.49355436e-01 -5.57683717e-01 -5.65956230e-01 -5.74172148e-01\n",
      " -5.82330650e-01 -5.90430918e-01 -5.98472144e-01 -6.06453523e-01\n",
      " -6.14374258e-01 -6.22233555e-01 -6.30030630e-01 -6.37764702e-01\n",
      " -6.45434998e-01 -6.53040752e-01 -6.60581201e-01 -6.68055593e-01\n",
      " -6.75463181e-01 -6.82803222e-01 -6.90074984e-01 -6.97277738e-01\n",
      " -7.04410766e-01 -7.11473353e-01 -7.18464793e-01 -7.25384387e-01\n",
      " -7.32231444e-01 -7.39005278e-01 -7.45705212e-01 -7.52330576e-01\n",
      " -7.58880708e-01 -7.65354953e-01 -7.71752662e-01 -7.78073197e-01\n",
      " -7.84315925e-01 -7.90480222e-01 -7.96565472e-01 -8.02571066e-01\n",
      " -8.08496404e-01 -8.14340892e-01 -8.20103948e-01 -8.25784993e-01\n",
      " -8.31383461e-01 -8.36898791e-01 -8.42330432e-01 -8.47677840e-01\n",
      " -8.52940482e-01 -8.58117830e-01 -8.63209367e-01 -8.68214583e-01\n",
      " -8.73132980e-01 -8.77964063e-01 -8.82707351e-01 -8.87362369e-01\n",
      " -8.91928651e-01 -8.96405741e-01 -9.00793192e-01 -9.05090563e-01\n",
      " -9.09297427e-01 -9.13413361e-01 -9.17437955e-01 -9.21370806e-01\n",
      " -9.25211521e-01 -9.28959715e-01 -9.32615014e-01 -9.36177052e-01\n",
      " -9.39645474e-01 -9.43019931e-01 -9.46300088e-01 -9.49485615e-01\n",
      " -9.52576194e-01 -9.55571517e-01 -9.58471283e-01 -9.61275203e-01\n",
      " -9.63982996e-01 -9.66594392e-01 -9.69109129e-01 -9.71526956e-01\n",
      " -9.73847631e-01 -9.76070922e-01 -9.78196607e-01 -9.80224473e-01\n",
      " -9.82154317e-01 -9.83985947e-01 -9.85719179e-01 -9.87353840e-01\n",
      " -9.88889766e-01 -9.90326804e-01 -9.91664810e-01 -9.92903651e-01\n",
      " -9.94043202e-01 -9.95083350e-01 -9.96023990e-01 -9.96865028e-01\n",
      " -9.97606381e-01 -9.98247974e-01 -9.98789743e-01 -9.99231634e-01\n",
      " -9.99573603e-01 -9.99815615e-01 -9.99957646e-01 -9.99999683e-01\n",
      " -9.99941720e-01 -9.99783764e-01 -9.99525831e-01 -9.99167945e-01\n",
      " -9.98710144e-01 -9.98152472e-01 -9.97494987e-01 -9.96737752e-01\n",
      " -9.95880845e-01 -9.94924350e-01 -9.93868363e-01 -9.92712991e-01\n",
      " -9.91458348e-01 -9.90104560e-01 -9.88651763e-01 -9.87100101e-01\n",
      " -9.85449730e-01 -9.83700815e-01 -9.81853530e-01 -9.79908061e-01\n",
      " -9.77864602e-01 -9.75723358e-01 -9.73484542e-01 -9.71148378e-01\n",
      " -9.68715100e-01 -9.66184952e-01 -9.63558185e-01 -9.60835064e-01\n",
      " -9.58015860e-01 -9.55100856e-01 -9.52090342e-01 -9.48984619e-01\n",
      " -9.45783999e-01 -9.42488802e-01 -9.39099356e-01 -9.35616002e-01\n",
      " -9.32039086e-01 -9.28368967e-01 -9.24606012e-01 -9.20750598e-01\n",
      " -9.16803109e-01 -9.12763940e-01 -9.08633496e-01 -9.04412189e-01\n",
      " -9.00100442e-01 -8.95698686e-01 -8.91207360e-01 -8.86626914e-01\n",
      " -8.81957807e-01 -8.77200504e-01 -8.72355482e-01 -8.67423226e-01\n",
      " -8.62404227e-01 -8.57298989e-01 -8.52108022e-01 -8.46831845e-01\n",
      " -8.41470985e-01 -8.36025979e-01 -8.30497370e-01 -8.24885713e-01\n",
      " -8.19191568e-01 -8.13415505e-01 -8.07558100e-01 -8.01619941e-01\n",
      " -7.95601620e-01 -7.89503740e-01 -7.83326910e-01 -7.77071748e-01\n",
      " -7.70738879e-01 -7.64328937e-01 -7.57842563e-01 -7.51280405e-01\n",
      " -7.44643120e-01 -7.37931371e-01 -7.31145830e-01 -7.24287174e-01\n",
      " -7.17356091e-01 -7.10353272e-01 -7.03279419e-01 -6.96135239e-01\n",
      " -6.88921445e-01 -6.81638760e-01 -6.74287912e-01 -6.66869635e-01\n",
      " -6.59384672e-01 -6.51833771e-01 -6.44217687e-01 -6.36537182e-01\n",
      " -6.28793024e-01 -6.20985987e-01 -6.13116852e-01 -6.05186406e-01\n",
      " -5.97195441e-01 -5.89144758e-01 -5.81035161e-01 -5.72867460e-01\n",
      " -5.64642473e-01 -5.56361023e-01 -5.48023937e-01 -5.39632049e-01\n",
      " -5.31186198e-01 -5.22687229e-01 -5.14135992e-01 -5.05533341e-01\n",
      " -4.96880138e-01 -4.88177247e-01 -4.79425539e-01 -4.70625888e-01\n",
      " -4.61779176e-01 -4.52886285e-01 -4.43948107e-01 -4.34965534e-01\n",
      " -4.25939465e-01 -4.16870802e-01 -4.07760453e-01 -3.98609328e-01\n",
      " -3.89418342e-01 -3.80188415e-01 -3.70920469e-01 -3.61615432e-01\n",
      " -3.52274233e-01 -3.42897807e-01 -3.33487092e-01 -3.24043028e-01\n",
      " -3.14566561e-01 -3.05058636e-01 -2.95520207e-01 -2.85952225e-01\n",
      " -2.76355649e-01 -2.66731437e-01 -2.57080552e-01 -2.47403959e-01\n",
      " -2.37702626e-01 -2.27977524e-01 -2.18229623e-01 -2.08459900e-01\n",
      " -1.98669331e-01 -1.88858895e-01 -1.79029573e-01 -1.69182349e-01\n",
      " -1.59318207e-01 -1.49438132e-01 -1.39543115e-01 -1.29634143e-01\n",
      " -1.19712207e-01 -1.09778301e-01 -9.98334166e-02 -8.98785492e-02\n",
      " -7.99146940e-02 -6.99428473e-02 -5.99640065e-02 -4.99791693e-02\n",
      " -3.99893342e-02 -2.99955002e-02 -1.99986667e-02 -9.99983333e-03\n",
      " -6.39488462e-14  9.99983333e-03  1.99986667e-02  2.99955002e-02\n",
      "  3.99893342e-02  4.99791693e-02  5.99640065e-02  6.99428473e-02\n",
      "  7.99146940e-02  8.98785492e-02  9.98334166e-02  1.09778301e-01\n",
      "  1.19712207e-01  1.29634143e-01  1.39543115e-01  1.49438132e-01\n",
      "  1.59318207e-01  1.69182349e-01  1.79029573e-01  1.88858895e-01\n",
      "  1.98669331e-01  2.08459900e-01  2.18229623e-01  2.27977524e-01\n",
      "  2.37702626e-01  2.47403959e-01  2.57080552e-01  2.66731437e-01\n",
      "  2.76355649e-01  2.85952225e-01  2.95520207e-01  3.05058636e-01\n",
      "  3.14566561e-01  3.24043028e-01  3.33487092e-01  3.42897807e-01\n",
      "  3.52274233e-01  3.61615432e-01  3.70920469e-01  3.80188415e-01\n",
      "  3.89418342e-01  3.98609328e-01  4.07760453e-01  4.16870802e-01\n",
      "  4.25939465e-01  4.34965534e-01  4.43948107e-01  4.52886285e-01\n",
      "  4.61779176e-01  4.70625888e-01  4.79425539e-01  4.88177247e-01\n",
      "  4.96880138e-01  5.05533341e-01  5.14135992e-01  5.22687229e-01\n",
      "  5.31186198e-01  5.39632049e-01  5.48023937e-01  5.56361023e-01\n",
      "  5.64642473e-01  5.72867460e-01  5.81035161e-01  5.89144758e-01\n",
      "  5.97195441e-01  6.05186406e-01  6.13116852e-01  6.20985987e-01\n",
      "  6.28793024e-01  6.36537182e-01  6.44217687e-01  6.51833771e-01\n",
      "  6.59384672e-01  6.66869635e-01  6.74287912e-01  6.81638760e-01\n",
      "  6.88921445e-01  6.96135239e-01  7.03279419e-01  7.10353272e-01\n",
      "  7.17356091e-01  7.24287174e-01  7.31145830e-01  7.37931371e-01\n",
      "  7.44643120e-01  7.51280405e-01  7.57842563e-01  7.64328937e-01\n",
      "  7.70738879e-01  7.77071748e-01  7.83326910e-01  7.89503740e-01\n",
      "  7.95601620e-01  8.01619941e-01  8.07558100e-01  8.13415505e-01\n",
      "  8.19191568e-01  8.24885713e-01  8.30497370e-01  8.36025979e-01\n",
      "  8.41470985e-01  8.46831845e-01  8.52108022e-01  8.57298989e-01\n",
      "  8.62404227e-01  8.67423226e-01  8.72355482e-01  8.77200504e-01\n",
      "  8.81957807e-01  8.86626914e-01  8.91207360e-01  8.95698686e-01\n",
      "  9.00100442e-01  9.04412189e-01  9.08633496e-01  9.12763940e-01\n",
      "  9.16803109e-01  9.20750598e-01  9.24606012e-01  9.28368967e-01\n",
      "  9.32039086e-01  9.35616002e-01  9.39099356e-01  9.42488802e-01\n",
      "  9.45783999e-01  9.48984619e-01  9.52090342e-01  9.55100856e-01\n",
      "  9.58015860e-01  9.60835064e-01  9.63558185e-01  9.66184952e-01\n",
      "  9.68715100e-01  9.71148378e-01  9.73484542e-01  9.75723358e-01\n",
      "  9.77864602e-01  9.79908061e-01  9.81853530e-01  9.83700815e-01\n",
      "  9.85449730e-01  9.87100101e-01  9.88651763e-01  9.90104560e-01\n",
      "  9.91458348e-01  9.92712991e-01  9.93868363e-01  9.94924350e-01\n",
      "  9.95880845e-01  9.96737752e-01  9.97494987e-01  9.98152472e-01\n",
      "  9.98710144e-01  9.99167945e-01  9.99525831e-01  9.99783764e-01\n",
      "  9.99941720e-01  9.99999683e-01  9.99957646e-01  9.99815615e-01\n",
      "  9.99573603e-01  9.99231634e-01  9.98789743e-01  9.98247974e-01\n",
      "  9.97606381e-01  9.96865028e-01  9.96023990e-01  9.95083350e-01\n",
      "  9.94043202e-01  9.92903651e-01  9.91664810e-01  9.90326804e-01\n",
      "  9.88889766e-01  9.87353840e-01  9.85719179e-01  9.83985947e-01\n",
      "  9.82154317e-01  9.80224473e-01  9.78196607e-01  9.76070922e-01\n",
      "  9.73847631e-01  9.71526956e-01  9.69109129e-01  9.66594392e-01\n",
      "  9.63982996e-01  9.61275203e-01  9.58471283e-01  9.55571517e-01\n",
      "  9.52576194e-01  9.49485615e-01  9.46300088e-01  9.43019931e-01\n",
      "  9.39645474e-01  9.36177052e-01  9.32615014e-01  9.28959715e-01\n",
      "  9.25211521e-01  9.21370806e-01  9.17437955e-01  9.13413361e-01\n",
      "  9.09297427e-01  9.05090563e-01  9.00793192e-01  8.96405741e-01\n",
      "  8.91928651e-01  8.87362369e-01  8.82707351e-01  8.77964063e-01\n",
      "  8.73132980e-01  8.68214583e-01  8.63209367e-01  8.58117830e-01\n",
      "  8.52940482e-01  8.47677840e-01  8.42330432e-01  8.36898791e-01\n",
      "  8.31383461e-01  8.25784993e-01  8.20103948e-01  8.14340892e-01\n",
      "  8.08496404e-01  8.02571066e-01  7.96565472e-01  7.90480222e-01\n",
      "  7.84315925e-01  7.78073197e-01  7.71752662e-01  7.65354953e-01\n",
      "  7.58880708e-01  7.52330576e-01  7.45705212e-01  7.39005278e-01\n",
      "  7.32231444e-01  7.25384387e-01  7.18464793e-01  7.11473353e-01\n",
      "  7.04410766e-01  6.97277738e-01  6.90074984e-01  6.82803222e-01\n",
      "  6.75463181e-01  6.68055593e-01  6.60581201e-01  6.53040752e-01\n",
      "  6.45434998e-01  6.37764702e-01  6.30030630e-01  6.22233555e-01\n",
      "  6.14374258e-01  6.06453523e-01  5.98472144e-01  5.90430918e-01\n",
      "  5.82330650e-01  5.74172148e-01  5.65956230e-01  5.57683717e-01\n",
      "  5.49355436e-01  5.40972220e-01  5.32534908e-01  5.24044342e-01\n",
      "  5.15501372e-01  5.06906852e-01  4.98261642e-01  4.89566607e-01\n",
      "  4.80822615e-01  4.72030541e-01  4.63191265e-01  4.54305670e-01\n",
      "  4.45374645e-01  4.36399082e-01  4.27379880e-01  4.18317941e-01\n",
      "  4.09214170e-01  4.00069478e-01  3.90884779e-01  3.81660992e-01\n",
      "  3.72399039e-01  3.63099847e-01  3.53764345e-01  3.44393467e-01\n",
      "  3.34988150e-01  3.25549335e-01  3.16077964e-01  3.06574986e-01\n",
      "  2.97041351e-01  2.87478012e-01  2.77885926e-01  2.68266051e-01\n",
      "  2.58619350e-01  2.48946787e-01  2.39249329e-01  2.29527947e-01\n",
      "  2.19783612e-01  2.10017299e-01  2.00229985e-01  1.90422647e-01\n",
      "  1.80596268e-01  1.70751829e-01  1.60890315e-01  1.51012712e-01]\n",
      "[20.08553692 19.88568249 19.68781664 19.4919196  19.29797176 19.10595373\n",
      " 18.91584631 18.7276305  18.54128746 18.35679857 18.17414537 17.9933096\n",
      " 17.81427318 17.6370182  17.46152694 17.28778184 17.11576554 16.94546082\n",
      " 16.77685067 16.60991822 16.44464677 16.2810198  16.11902095 15.95863401\n",
      " 15.79984295 15.64263188 15.4869851  15.33288702 15.18032224 15.02927551\n",
      " 14.87973172 14.73167592 14.5850933  14.43996919 14.2962891  14.15403865\n",
      " 14.01320361 13.8737699  13.73572359 13.59905085 13.46373804 13.3297716\n",
      " 13.19713816 13.06582444 12.93581732 12.80710378 12.67967097 12.55350614\n",
      " 12.42859666 12.30493006 12.18249396 12.06127612 11.94126442 11.82244685\n",
      " 11.70481154 11.58834672 11.47304074 11.35888208 11.24585931 11.13396115\n",
      " 11.02317638 10.91349394 10.80490286 10.69739228 10.59095145 10.48556972\n",
      " 10.38123656 10.27794153 10.17567431 10.07442466  9.97418245  9.87493768\n",
      "  9.77668041  9.67940081  9.58308917  9.48773584  9.39333129  9.29986608\n",
      "  9.20733087  9.11571639  9.0250135   8.93521311  8.84630626  8.75828404\n",
      "  8.67113766  8.5848584   8.49943763  8.41486681  8.33113749  8.24824128\n",
      "  8.16616991  8.08491516  8.00446891  7.92482312  7.84596981  7.76790111\n",
      "  7.6906092   7.61408636  7.53832493  7.46331735  7.3890561   7.31553376\n",
      "  7.24274299  7.17067649  7.09932707  7.02868758  6.95875097  6.88951024\n",
      "  6.82095847  6.7530888   6.68589444  6.61936868  6.55350486  6.4882964\n",
      "  6.42373677  6.35981952  6.29653826  6.23388666  6.17185845  6.11044743\n",
      "  6.04964746  5.98945247  5.92985642  5.87085336  5.81243739  5.75460268\n",
      "  5.69734342  5.64065391  5.58452846  5.52896148  5.47394739  5.41948071\n",
      "  5.36555597  5.3121678   5.25931084  5.20697983  5.15516951  5.10387472\n",
      "  5.05309032  5.00281123  4.95303242  4.90374893  4.85495581  4.80664819\n",
      "  4.75882125  4.71147018  4.66459027  4.61817682  4.5722252   4.52673079\n",
      "  4.48168907  4.43709552  4.39294568  4.34923514  4.30595953  4.26311452\n",
      "  4.22069582  4.17869919  4.13712044  4.0959554   4.05519997  4.01485005\n",
      "  3.97490163  3.9353507   3.8961933   3.85742553  3.81904351  3.78104339\n",
      "  3.74342138  3.70617371  3.66929667  3.63278656  3.59663973  3.56085256\n",
      "  3.52542149  3.49034296  3.45561346  3.42122954  3.38718773  3.35348465\n",
      "  3.32011692  3.28708121  3.2543742   3.22199264  3.18993328  3.15819291\n",
      "  3.12676837  3.0956565   3.0648542   3.03435839  3.00416602  2.97427407\n",
      "  2.94467955  2.9153795   2.88637099  2.85765112  2.82921701  2.80106583\n",
      "  2.77319476  2.74560102  2.71828183  2.69123447  2.66445624  2.63794446\n",
      "  2.61169647  2.58570966  2.55998142  2.53450918  2.50929039  2.48432253\n",
      "  2.45960311  2.43512965  2.41089971  2.38691085  2.36316069  2.33964685\n",
      "  2.31636698  2.29331874  2.27049984  2.24790799  2.22554093  2.20339643\n",
      "  2.18147227  2.15976625  2.13827622  2.11700002  2.09593551  2.07508061\n",
      "  2.05443321  2.03399126  2.01375271  1.99371553  1.97387773  1.95423732\n",
      "  1.93479233  1.91554083  1.89648088  1.87761058  1.85892804  1.8404314\n",
      "  1.8221188   1.80398842  1.78603843  1.76826705  1.7506725   1.73325302\n",
      "  1.71600686  1.69893231  1.68202765  1.66529119  1.64872127  1.63231622\n",
      "  1.6160744   1.59999419  1.58407398  1.56831219  1.55270722  1.53725752\n",
      "  1.52196156  1.50681779  1.4918247   1.47698079  1.46228459  1.44773461\n",
      "  1.43332941  1.41906755  1.40494759  1.39096813  1.37712776  1.36342511\n",
      "  1.34985881  1.33642749  1.32312981  1.30996445  1.29693009  1.28402542\n",
      "  1.27124915  1.25860001  1.24607673  1.23367806  1.22140276  1.2092496\n",
      "  1.19721736  1.18530485  1.17351087  1.16183424  1.1502738   1.13882838\n",
      "  1.12749685  1.11627807  1.10517092  1.09417428  1.08328707  1.07250818\n",
      "  1.06183655  1.0512711   1.04081077  1.03045453  1.02020134  1.01005017\n",
      "  1.          0.99004983  0.98019867  0.97044553  0.96078944  0.95122942\n",
      "  0.94176453  0.93239382  0.92311635  0.91393119  0.90483742  0.89583414\n",
      "  0.88692044  0.87809543  0.86935824  0.86070798  0.85214379  0.84366482\n",
      "  0.83527021  0.82695913  0.81873075  0.81058425  0.8025188   0.7945336\n",
      "  0.78662786  0.77880078  0.77105159  0.76337949  0.75578374  0.74826357\n",
      "  0.74081822  0.73344696  0.72614904  0.71892373  0.71177032  0.70468809\n",
      "  0.69767633  0.69073433  0.68386141  0.67705687  0.67032005  0.66365025\n",
      "  0.65704682  0.65050909  0.64403642  0.63762815  0.63128365  0.62500227\n",
      "  0.61878339  0.61262639  0.60653066  0.60049558  0.59452055  0.58860497\n",
      "  0.58274825  0.57694981  0.57120906  0.56552544  0.55989837  0.55432728\n",
      "  0.54881164  0.54335087  0.53794444  0.5325918   0.52729242  0.52204578\n",
      "  0.51685133  0.51170858  0.50661699  0.50157607  0.4965853   0.4916442\n",
      "  0.48675226  0.48190899  0.47711392  0.47236655  0.46766643  0.46301307\n",
      "  0.45840601  0.4538448   0.44932896  0.44485807  0.44043165  0.43604929\n",
      "  0.43171052  0.42741493  0.42316208  0.41895155  0.41478291  0.41065575\n",
      "  0.40656966  0.40252422  0.39851904  0.39455371  0.39062784  0.38674102\n",
      "  0.38289289  0.37908304  0.3753111   0.37157669  0.36787944  0.36421898\n",
      "  0.36059494  0.35700696  0.35345468  0.34993775  0.34645581  0.34300852\n",
      "  0.33959553  0.33621649  0.33287108  0.32955896  0.32627979  0.32303326\n",
      "  0.31981902  0.31663677  0.31348618  0.31036694  0.30727874  0.30422126\n",
      "  0.30119421  0.29819728  0.29523017  0.29229258  0.28938422  0.2865048\n",
      "  0.28365403  0.28083162  0.2780373   0.27527078  0.27253179  0.26982006\n",
      "  0.2671353   0.26447726  0.26184567  0.25924026  0.25666078  0.25410696\n",
      "  0.25157855  0.2490753   0.24659696  0.24414328  0.24171402  0.23930892\n",
      "  0.23692776  0.23457029  0.23223627  0.22992549  0.22763769  0.22537266\n",
      "  0.22313016  0.22090998  0.21871189  0.21653567  0.2143811   0.21224797\n",
      "  0.21013607  0.20804518  0.2059751   0.20392561  0.20189652  0.19988761\n",
      "  0.1978987   0.19592957  0.19398004  0.19204991  0.19013898  0.18824707\n",
      "  0.18637398  0.18451952  0.18268352  0.18086579  0.17906615  0.17728441\n",
      "  0.1755204   0.17377394  0.17204486  0.17033299  0.16863815  0.16696017\n",
      "  0.16529889  0.16365414  0.16202575  0.16041357  0.15881743  0.15723717\n",
      "  0.15567263  0.15412366  0.15259011  0.15107181  0.14956862  0.14808039\n",
      "  0.14660696  0.1451482   0.14370395  0.14227407  0.14085842  0.13945686\n",
      "  0.13806924  0.13669543  0.13533528  0.13398867  0.13265547  0.13133552\n",
      "  0.13002871  0.1287349   0.12745397  0.12618578  0.12493021  0.12368714\n",
      "  0.12245643  0.12123797  0.12003163  0.11883729  0.11765484  0.11648416\n",
      "  0.11532512  0.11417762  0.11304153  0.11191675  0.11080316  0.10970065\n",
      "  0.10860911  0.10752843  0.1064585   0.10539922  0.10435048  0.10331218\n",
      "  0.10228421  0.10126646  0.10025884  0.09926125  0.09827359  0.09729575\n",
      "  0.09632764  0.09536916  0.09442022  0.09348073  0.09255058  0.09162968\n",
      "  0.09071795  0.08981529  0.08892162  0.08803683  0.08716085  0.08629359\n",
      "  0.08543495  0.08458486  0.08374323  0.08290997  0.082085    0.08126824\n",
      "  0.08045961  0.07965902  0.0788664   0.07808167  0.07730474  0.07653555\n",
      "  0.075774    0.07502004  0.07427358  0.07353454  0.07280286  0.07207846\n",
      "  0.07136127  0.07065121  0.06994822  0.06925223  0.06856315  0.06788094\n",
      "  0.06720551  0.06653681  0.06587475  0.06521929  0.06457035  0.06392786\n",
      "  0.06329177  0.062662    0.06203851  0.06142121  0.06081006  0.06020499\n",
      "  0.05960594  0.05901285  0.05842567  0.05784432  0.05726876  0.05669893\n",
      "  0.05613476  0.05557621  0.05502322  0.05447573  0.05393369  0.05339704\n",
      "  0.05286573  0.05233971  0.05181892  0.05130331  0.05079283  0.05028744]\n"
     ]
    }
   ],
   "source": [
    "print(np.sin(x))\n",
    "print(np.exp(-x))"
   ]
  },
  {
   "cell_type": "code",
   "execution_count": 61,
   "metadata": {},
   "outputs": [
    {
     "data": {
      "image/png": "[encoded data removed]",
      "text/plain": [
       "<matplotlib.figure.Figure at 0x7f118101ca90>"
      ]
     },
     "metadata": {},
     "output_type": "display_data"
    }
   ],
   "source": [
    "plt.plotfile('hoge.dat', cols=(0,1), names=('x', 'y'), delimiter=\" \", marker=\"o\", linestyle=\"-\")\n",
    "plt.show()"
   ]
  },
  {
   "cell_type": "code",
   "execution_count": 69,
   "metadata": {},
   "outputs": [
    {
     "data": {
      "image/png": "[encoded data removed]",
      "text/plain": [
       "<matplotlib.figure.Figure at 0x7f1180b08d30>"
      ]
     },
     "metadata": {},
     "output_type": "display_data"
    }
   ],
   "source": [
    "# coding: utf-8 \n",
    "\n",
    "x = np.random.rand(100)\n",
    "y = np.random.rand(100)\n",
    "\n",
    "fig = plt.figure()\n",
    "\n",
    "ax = fig.add_subplot(1,1,1)\n",
    "\n",
    "ax.scatter(x,y)\n",
    "\n",
    "ax.set_title('first scatter plot')\n",
    "ax.set_xlabel('x')\n",
    "ax.set_ylabel('y')\n",
    "\n",
    "plt.show()"
   ]
  },
  {
   "cell_type": "code",
   "execution_count": null,
   "metadata": {
    "collapsed": true
   },
   "outputs": [],
   "source": []
  }
 ],
 "metadata": {
  "kernelspec": {
   "display_name": "Python 3",
   "language": "python",
   "name": "python3"
  },
  "language_info": {
   "codemirror_mode": {
    "name": "ipython",
    "version": 3
   },
   "file_extension": ".py",
   "mimetype": "text/x-python",
   "name": "python",
   "nbconvert_exporter": "python",
   "pygments_lexer": "ipython3",
   "version": "3.6.2"
  }
 },
 "nbformat": 4,
 "nbformat_minor": 2
}
